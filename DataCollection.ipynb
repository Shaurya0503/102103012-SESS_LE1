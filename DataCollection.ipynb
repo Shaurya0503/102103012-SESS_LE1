{
 "cells": [
  {
   "cell_type": "code",
   "execution_count": 1,
   "id": "1ed9c864-ec67-4b10-b671-1f520625e0b4",
   "metadata": {},
   "outputs": [
    {
     "name": "stdin",
     "output_type": "stream",
     "text": [
      "Enter the word you are going to record (or type 'exit' to finish):  zero\n"
     ]
    },
    {
     "name": "stdout",
     "output_type": "stream",
     "text": [
      "Please say 'zero' into the microphone...\n",
      "Press Enter to start recording...\n"
     ]
    },
    {
     "name": "stdin",
     "output_type": "stream",
     "text": [
      " \n"
     ]
    },
    {
     "name": "stdout",
     "output_type": "stream",
     "text": [
      "Recording...\n",
      "Finished recording.\n",
      "Saved recording as audio_dataset\\zero\\zero_1.wav\n",
      "Please say 'zero' into the microphone...\n",
      "Press Enter to start recording...\n"
     ]
    },
    {
     "name": "stdin",
     "output_type": "stream",
     "text": [
      " \n"
     ]
    },
    {
     "name": "stdout",
     "output_type": "stream",
     "text": [
      "Recording...\n",
      "Finished recording.\n",
      "Saved recording as audio_dataset\\zero\\zero_2.wav\n",
      "Please say 'zero' into the microphone...\n",
      "Press Enter to start recording...\n"
     ]
    },
    {
     "name": "stdin",
     "output_type": "stream",
     "text": [
      " \n"
     ]
    },
    {
     "name": "stdout",
     "output_type": "stream",
     "text": [
      "Recording...\n",
      "Finished recording.\n",
      "Saved recording as audio_dataset\\zero\\zero_3.wav\n",
      "Please say 'zero' into the microphone...\n",
      "Press Enter to start recording...\n"
     ]
    },
    {
     "name": "stdin",
     "output_type": "stream",
     "text": [
      " \n"
     ]
    },
    {
     "name": "stdout",
     "output_type": "stream",
     "text": [
      "Recording...\n",
      "Finished recording.\n",
      "Saved recording as audio_dataset\\zero\\zero_4.wav\n",
      "Please say 'zero' into the microphone...\n",
      "Press Enter to start recording...\n"
     ]
    },
    {
     "name": "stdin",
     "output_type": "stream",
     "text": [
      " \n"
     ]
    },
    {
     "name": "stdout",
     "output_type": "stream",
     "text": [
      "Recording...\n",
      "Finished recording.\n",
      "Saved recording as audio_dataset\\zero\\zero_5.wav\n",
      "Please say 'zero' into the microphone...\n",
      "Press Enter to start recording...\n"
     ]
    },
    {
     "name": "stdin",
     "output_type": "stream",
     "text": [
      " \n"
     ]
    },
    {
     "name": "stdout",
     "output_type": "stream",
     "text": [
      "Recording...\n",
      "Finished recording.\n",
      "Saved recording as audio_dataset\\zero\\zero_6.wav\n",
      "Please say 'zero' into the microphone...\n",
      "Press Enter to start recording...\n"
     ]
    },
    {
     "name": "stdin",
     "output_type": "stream",
     "text": [
      " \n"
     ]
    },
    {
     "name": "stdout",
     "output_type": "stream",
     "text": [
      "Recording...\n",
      "Finished recording.\n",
      "Saved recording as audio_dataset\\zero\\zero_7.wav\n",
      "Please say 'zero' into the microphone...\n",
      "Press Enter to start recording...\n"
     ]
    },
    {
     "name": "stdin",
     "output_type": "stream",
     "text": [
      " \n"
     ]
    },
    {
     "name": "stdout",
     "output_type": "stream",
     "text": [
      "Recording...\n",
      "Finished recording.\n",
      "Saved recording as audio_dataset\\zero\\zero_8.wav\n",
      "Please say 'zero' into the microphone...\n",
      "Press Enter to start recording...\n"
     ]
    },
    {
     "name": "stdin",
     "output_type": "stream",
     "text": [
      " \n"
     ]
    },
    {
     "name": "stdout",
     "output_type": "stream",
     "text": [
      "Recording...\n",
      "Finished recording.\n",
      "Saved recording as audio_dataset\\zero\\zero_9.wav\n",
      "Please say 'zero' into the microphone...\n",
      "Press Enter to start recording...\n"
     ]
    },
    {
     "name": "stdin",
     "output_type": "stream",
     "text": [
      " \n"
     ]
    },
    {
     "name": "stdout",
     "output_type": "stream",
     "text": [
      "Recording...\n",
      "Finished recording.\n",
      "Saved recording as audio_dataset\\zero\\zero_10.wav\n"
     ]
    },
    {
     "name": "stdin",
     "output_type": "stream",
     "text": [
      "Enter the word you are going to record (or type 'exit' to finish):  sheila\n"
     ]
    },
    {
     "name": "stdout",
     "output_type": "stream",
     "text": [
      "Please say 'sheila' into the microphone...\n",
      "Press Enter to start recording...\n"
     ]
    },
    {
     "name": "stdin",
     "output_type": "stream",
     "text": [
      " \n"
     ]
    },
    {
     "name": "stdout",
     "output_type": "stream",
     "text": [
      "Recording...\n",
      "Finished recording.\n",
      "Saved recording as audio_dataset\\sheila\\sheila_1.wav\n",
      "Please say 'sheila' into the microphone...\n",
      "Press Enter to start recording...\n"
     ]
    },
    {
     "name": "stdin",
     "output_type": "stream",
     "text": [
      " \n"
     ]
    },
    {
     "name": "stdout",
     "output_type": "stream",
     "text": [
      "Recording...\n",
      "Finished recording.\n",
      "Saved recording as audio_dataset\\sheila\\sheila_2.wav\n",
      "Please say 'sheila' into the microphone...\n",
      "Press Enter to start recording...\n"
     ]
    },
    {
     "name": "stdin",
     "output_type": "stream",
     "text": [
      " \n"
     ]
    },
    {
     "name": "stdout",
     "output_type": "stream",
     "text": [
      "Recording...\n",
      "Finished recording.\n",
      "Saved recording as audio_dataset\\sheila\\sheila_3.wav\n",
      "Please say 'sheila' into the microphone...\n",
      "Press Enter to start recording...\n"
     ]
    },
    {
     "name": "stdin",
     "output_type": "stream",
     "text": [
      " \n"
     ]
    },
    {
     "name": "stdout",
     "output_type": "stream",
     "text": [
      "Recording...\n",
      "Finished recording.\n",
      "Saved recording as audio_dataset\\sheila\\sheila_4.wav\n",
      "Please say 'sheila' into the microphone...\n",
      "Press Enter to start recording...\n"
     ]
    },
    {
     "name": "stdin",
     "output_type": "stream",
     "text": [
      " \n"
     ]
    },
    {
     "name": "stdout",
     "output_type": "stream",
     "text": [
      "Recording...\n",
      "Finished recording.\n",
      "Saved recording as audio_dataset\\sheila\\sheila_5.wav\n",
      "Please say 'sheila' into the microphone...\n",
      "Press Enter to start recording...\n"
     ]
    },
    {
     "name": "stdin",
     "output_type": "stream",
     "text": [
      " \n"
     ]
    },
    {
     "name": "stdout",
     "output_type": "stream",
     "text": [
      "Recording...\n",
      "Finished recording.\n",
      "Saved recording as audio_dataset\\sheila\\sheila_6.wav\n",
      "Please say 'sheila' into the microphone...\n",
      "Press Enter to start recording...\n"
     ]
    },
    {
     "name": "stdin",
     "output_type": "stream",
     "text": [
      " \n"
     ]
    },
    {
     "name": "stdout",
     "output_type": "stream",
     "text": [
      "Recording...\n",
      "Finished recording.\n",
      "Saved recording as audio_dataset\\sheila\\sheila_7.wav\n",
      "Please say 'sheila' into the microphone...\n",
      "Press Enter to start recording...\n"
     ]
    },
    {
     "name": "stdin",
     "output_type": "stream",
     "text": [
      " \n"
     ]
    },
    {
     "name": "stdout",
     "output_type": "stream",
     "text": [
      "Recording...\n",
      "Finished recording.\n",
      "Saved recording as audio_dataset\\sheila\\sheila_8.wav\n",
      "Please say 'sheila' into the microphone...\n",
      "Press Enter to start recording...\n"
     ]
    },
    {
     "name": "stdin",
     "output_type": "stream",
     "text": [
      " \n"
     ]
    },
    {
     "name": "stdout",
     "output_type": "stream",
     "text": [
      "Recording...\n",
      "Finished recording.\n",
      "Saved recording as audio_dataset\\sheila\\sheila_9.wav\n",
      "Please say 'sheila' into the microphone...\n",
      "Press Enter to start recording...\n"
     ]
    },
    {
     "name": "stdin",
     "output_type": "stream",
     "text": [
      " \n"
     ]
    },
    {
     "name": "stdout",
     "output_type": "stream",
     "text": [
      "Recording...\n",
      "Finished recording.\n",
      "Saved recording as audio_dataset\\sheila\\sheila_10.wav\n"
     ]
    },
    {
     "name": "stdin",
     "output_type": "stream",
     "text": [
      "Enter the word you are going to record (or type 'exit' to finish):  up\n"
     ]
    },
    {
     "name": "stdout",
     "output_type": "stream",
     "text": [
      "Please say 'up' into the microphone...\n",
      "Press Enter to start recording...\n"
     ]
    },
    {
     "name": "stdin",
     "output_type": "stream",
     "text": [
      " \n"
     ]
    },
    {
     "name": "stdout",
     "output_type": "stream",
     "text": [
      "Recording...\n",
      "Finished recording.\n",
      "Saved recording as audio_dataset\\up\\up_1.wav\n",
      "Please say 'up' into the microphone...\n",
      "Press Enter to start recording...\n"
     ]
    },
    {
     "name": "stdin",
     "output_type": "stream",
     "text": [
      " \n"
     ]
    },
    {
     "name": "stdout",
     "output_type": "stream",
     "text": [
      "Recording...\n",
      "Finished recording.\n",
      "Saved recording as audio_dataset\\up\\up_2.wav\n",
      "Please say 'up' into the microphone...\n",
      "Press Enter to start recording...\n"
     ]
    },
    {
     "name": "stdin",
     "output_type": "stream",
     "text": [
      " \n"
     ]
    },
    {
     "name": "stdout",
     "output_type": "stream",
     "text": [
      "Recording...\n",
      "Finished recording.\n",
      "Saved recording as audio_dataset\\up\\up_3.wav\n",
      "Please say 'up' into the microphone...\n",
      "Press Enter to start recording...\n"
     ]
    },
    {
     "name": "stdin",
     "output_type": "stream",
     "text": [
      " \n"
     ]
    },
    {
     "name": "stdout",
     "output_type": "stream",
     "text": [
      "Recording...\n",
      "Finished recording.\n",
      "Saved recording as audio_dataset\\up\\up_4.wav\n",
      "Please say 'up' into the microphone...\n",
      "Press Enter to start recording...\n"
     ]
    },
    {
     "name": "stdin",
     "output_type": "stream",
     "text": [
      " \n"
     ]
    },
    {
     "name": "stdout",
     "output_type": "stream",
     "text": [
      "Recording...\n",
      "Finished recording.\n",
      "Saved recording as audio_dataset\\up\\up_5.wav\n",
      "Please say 'up' into the microphone...\n",
      "Press Enter to start recording...\n"
     ]
    },
    {
     "name": "stdin",
     "output_type": "stream",
     "text": [
      " \n"
     ]
    },
    {
     "name": "stdout",
     "output_type": "stream",
     "text": [
      "Recording...\n",
      "Finished recording.\n",
      "Saved recording as audio_dataset\\up\\up_6.wav\n",
      "Please say 'up' into the microphone...\n",
      "Press Enter to start recording...\n"
     ]
    },
    {
     "name": "stdin",
     "output_type": "stream",
     "text": [
      " \n"
     ]
    },
    {
     "name": "stdout",
     "output_type": "stream",
     "text": [
      "Recording...\n",
      "Finished recording.\n",
      "Saved recording as audio_dataset\\up\\up_7.wav\n",
      "Please say 'up' into the microphone...\n",
      "Press Enter to start recording...\n"
     ]
    },
    {
     "name": "stdin",
     "output_type": "stream",
     "text": [
      " \n"
     ]
    },
    {
     "name": "stdout",
     "output_type": "stream",
     "text": [
      "Recording...\n",
      "Finished recording.\n",
      "Saved recording as audio_dataset\\up\\up_8.wav\n",
      "Please say 'up' into the microphone...\n",
      "Press Enter to start recording...\n"
     ]
    },
    {
     "name": "stdin",
     "output_type": "stream",
     "text": [
      " \n"
     ]
    },
    {
     "name": "stdout",
     "output_type": "stream",
     "text": [
      "Recording...\n",
      "Finished recording.\n",
      "Saved recording as audio_dataset\\up\\up_9.wav\n",
      "Please say 'up' into the microphone...\n",
      "Press Enter to start recording...\n"
     ]
    },
    {
     "name": "stdin",
     "output_type": "stream",
     "text": [
      " \n"
     ]
    },
    {
     "name": "stdout",
     "output_type": "stream",
     "text": [
      "Recording...\n",
      "Finished recording.\n",
      "Saved recording as audio_dataset\\up\\up_10.wav\n"
     ]
    },
    {
     "name": "stdin",
     "output_type": "stream",
     "text": [
      "Enter the word you are going to record (or type 'exit' to finish):  two\n"
     ]
    },
    {
     "name": "stdout",
     "output_type": "stream",
     "text": [
      "Please say 'two' into the microphone...\n",
      "Press Enter to start recording...\n"
     ]
    },
    {
     "name": "stdin",
     "output_type": "stream",
     "text": [
      " \n"
     ]
    },
    {
     "name": "stdout",
     "output_type": "stream",
     "text": [
      "Recording...\n",
      "Finished recording.\n",
      "Saved recording as audio_dataset\\two\\two_1.wav\n",
      "Please say 'two' into the microphone...\n",
      "Press Enter to start recording...\n"
     ]
    },
    {
     "name": "stdin",
     "output_type": "stream",
     "text": [
      " \n"
     ]
    },
    {
     "name": "stdout",
     "output_type": "stream",
     "text": [
      "Recording...\n",
      "Finished recording.\n",
      "Saved recording as audio_dataset\\two\\two_2.wav\n",
      "Please say 'two' into the microphone...\n",
      "Press Enter to start recording...\n"
     ]
    },
    {
     "name": "stdin",
     "output_type": "stream",
     "text": [
      " \n"
     ]
    },
    {
     "name": "stdout",
     "output_type": "stream",
     "text": [
      "Recording...\n",
      "Finished recording.\n",
      "Saved recording as audio_dataset\\two\\two_3.wav\n",
      "Please say 'two' into the microphone...\n",
      "Press Enter to start recording...\n"
     ]
    },
    {
     "name": "stdin",
     "output_type": "stream",
     "text": [
      " \n"
     ]
    },
    {
     "name": "stdout",
     "output_type": "stream",
     "text": [
      "Recording...\n",
      "Finished recording.\n",
      "Saved recording as audio_dataset\\two\\two_4.wav\n",
      "Please say 'two' into the microphone...\n",
      "Press Enter to start recording...\n"
     ]
    },
    {
     "name": "stdin",
     "output_type": "stream",
     "text": [
      " \n"
     ]
    },
    {
     "name": "stdout",
     "output_type": "stream",
     "text": [
      "Recording...\n",
      "Finished recording.\n",
      "Saved recording as audio_dataset\\two\\two_5.wav\n",
      "Please say 'two' into the microphone...\n",
      "Press Enter to start recording...\n"
     ]
    },
    {
     "name": "stdin",
     "output_type": "stream",
     "text": [
      " \n"
     ]
    },
    {
     "name": "stdout",
     "output_type": "stream",
     "text": [
      "Recording...\n",
      "Finished recording.\n",
      "Saved recording as audio_dataset\\two\\two_6.wav\n",
      "Please say 'two' into the microphone...\n",
      "Press Enter to start recording...\n"
     ]
    },
    {
     "name": "stdin",
     "output_type": "stream",
     "text": [
      " \n"
     ]
    },
    {
     "name": "stdout",
     "output_type": "stream",
     "text": [
      "Recording...\n",
      "Finished recording.\n",
      "Saved recording as audio_dataset\\two\\two_7.wav\n",
      "Please say 'two' into the microphone...\n",
      "Press Enter to start recording...\n"
     ]
    },
    {
     "name": "stdin",
     "output_type": "stream",
     "text": [
      " \n"
     ]
    },
    {
     "name": "stdout",
     "output_type": "stream",
     "text": [
      "Recording...\n",
      "Finished recording.\n",
      "Saved recording as audio_dataset\\two\\two_8.wav\n",
      "Please say 'two' into the microphone...\n",
      "Press Enter to start recording...\n"
     ]
    },
    {
     "name": "stdin",
     "output_type": "stream",
     "text": [
      " \n"
     ]
    },
    {
     "name": "stdout",
     "output_type": "stream",
     "text": [
      "Recording...\n",
      "Finished recording.\n",
      "Saved recording as audio_dataset\\two\\two_9.wav\n",
      "Please say 'two' into the microphone...\n",
      "Press Enter to start recording...\n"
     ]
    },
    {
     "name": "stdin",
     "output_type": "stream",
     "text": [
      " \n"
     ]
    },
    {
     "name": "stdout",
     "output_type": "stream",
     "text": [
      "Recording...\n",
      "Finished recording.\n",
      "Saved recording as audio_dataset\\two\\two_10.wav\n"
     ]
    },
    {
     "name": "stdin",
     "output_type": "stream",
     "text": [
      "Enter the word you are going to record (or type 'exit' to finish):  tree\n"
     ]
    },
    {
     "name": "stdout",
     "output_type": "stream",
     "text": [
      "Please say 'tree' into the microphone...\n",
      "Press Enter to start recording...\n"
     ]
    },
    {
     "name": "stdin",
     "output_type": "stream",
     "text": [
      " \n"
     ]
    },
    {
     "name": "stdout",
     "output_type": "stream",
     "text": [
      "Recording...\n",
      "Finished recording.\n",
      "Saved recording as audio_dataset\\tree\\tree_1.wav\n",
      "Please say 'tree' into the microphone...\n",
      "Press Enter to start recording...\n"
     ]
    },
    {
     "name": "stdin",
     "output_type": "stream",
     "text": [
      " \n"
     ]
    },
    {
     "name": "stdout",
     "output_type": "stream",
     "text": [
      "Recording...\n",
      "Finished recording.\n",
      "Saved recording as audio_dataset\\tree\\tree_2.wav\n",
      "Please say 'tree' into the microphone...\n",
      "Press Enter to start recording...\n"
     ]
    },
    {
     "name": "stdin",
     "output_type": "stream",
     "text": [
      " \n"
     ]
    },
    {
     "name": "stdout",
     "output_type": "stream",
     "text": [
      "Recording...\n",
      "Finished recording.\n",
      "Saved recording as audio_dataset\\tree\\tree_3.wav\n",
      "Please say 'tree' into the microphone...\n",
      "Press Enter to start recording...\n"
     ]
    },
    {
     "name": "stdin",
     "output_type": "stream",
     "text": [
      " \n"
     ]
    },
    {
     "name": "stdout",
     "output_type": "stream",
     "text": [
      "Recording...\n",
      "Finished recording.\n",
      "Saved recording as audio_dataset\\tree\\tree_4.wav\n",
      "Please say 'tree' into the microphone...\n",
      "Press Enter to start recording...\n"
     ]
    },
    {
     "name": "stdin",
     "output_type": "stream",
     "text": [
      " \n"
     ]
    },
    {
     "name": "stdout",
     "output_type": "stream",
     "text": [
      "Recording...\n",
      "Finished recording.\n",
      "Saved recording as audio_dataset\\tree\\tree_5.wav\n",
      "Please say 'tree' into the microphone...\n",
      "Press Enter to start recording...\n"
     ]
    },
    {
     "name": "stdin",
     "output_type": "stream",
     "text": [
      " \n"
     ]
    },
    {
     "name": "stdout",
     "output_type": "stream",
     "text": [
      "Recording...\n",
      "Finished recording.\n",
      "Saved recording as audio_dataset\\tree\\tree_6.wav\n",
      "Please say 'tree' into the microphone...\n",
      "Press Enter to start recording...\n"
     ]
    },
    {
     "name": "stdin",
     "output_type": "stream",
     "text": [
      " \n"
     ]
    },
    {
     "name": "stdout",
     "output_type": "stream",
     "text": [
      "Recording...\n",
      "Finished recording.\n",
      "Saved recording as audio_dataset\\tree\\tree_7.wav\n",
      "Please say 'tree' into the microphone...\n",
      "Press Enter to start recording...\n"
     ]
    },
    {
     "name": "stdin",
     "output_type": "stream",
     "text": [
      " \n"
     ]
    },
    {
     "name": "stdout",
     "output_type": "stream",
     "text": [
      "Recording...\n",
      "Finished recording.\n",
      "Saved recording as audio_dataset\\tree\\tree_8.wav\n",
      "Please say 'tree' into the microphone...\n",
      "Press Enter to start recording...\n"
     ]
    },
    {
     "name": "stdin",
     "output_type": "stream",
     "text": [
      " \n"
     ]
    },
    {
     "name": "stdout",
     "output_type": "stream",
     "text": [
      "Recording...\n",
      "Finished recording.\n",
      "Saved recording as audio_dataset\\tree\\tree_9.wav\n",
      "Please say 'tree' into the microphone...\n",
      "Press Enter to start recording...\n"
     ]
    },
    {
     "name": "stdin",
     "output_type": "stream",
     "text": [
      " \n"
     ]
    },
    {
     "name": "stdout",
     "output_type": "stream",
     "text": [
      "Recording...\n",
      "Finished recording.\n",
      "Saved recording as audio_dataset\\tree\\tree_10.wav\n"
     ]
    },
    {
     "name": "stdin",
     "output_type": "stream",
     "text": [
      "Enter the word you are going to record (or type 'exit' to finish):  exit\n"
     ]
    }
   ],
   "source": [
    "import os\n",
    "import pyaudio\n",
    "import wave\n",
    "import time\n",
    "\n",
    "def record_audio(filename, duration=1, sample_rate=16000, channels=1, chunk=1024):\n",
    "    \"\"\"Record audio for a specified duration and save to a WAV file.\"\"\"\n",
    "    audio = pyaudio.PyAudio()\n",
    "    \n",
    "    stream = audio.open(format=pyaudio.paInt16, channels=channels, rate=sample_rate, input=True, frames_per_buffer=chunk)\n",
    "    \n",
    "    print(\"Recording...\")\n",
    "    frames = []\n",
    "    \n",
    "    for _ in range(int(sample_rate / chunk * duration)):\n",
    "        data = stream.read(chunk)\n",
    "        frames.append(data)\n",
    "    \n",
    "    print(\"Finished recording.\")\n",
    "    \n",
    "    stream.stop_stream()\n",
    "    stream.close()\n",
    "    audio.terminate()\n",
    "    \n",
    "    # Save the recorded data\n",
    "    with wave.open(filename, 'wb') as wf:\n",
    "        wf.setnchannels(channels)\n",
    "        wf.setsampwidth(audio.get_sample_size(pyaudio.paInt16))\n",
    "        wf.setframerate(sample_rate)\n",
    "        wf.writeframes(b''.join(frames))\n",
    "\n",
    "def create_dataset(num_samples_per_word=10):\n",
    "    base_dir = 'audio_dataset'\n",
    "    \n",
    "    if not os.path.exists(base_dir):\n",
    "        os.makedirs(base_dir)\n",
    "    \n",
    "    while True:\n",
    "        word = input(\"Enter the word you are going to record (or type 'exit' to finish): \").strip()\n",
    "        if word.lower() == 'exit':\n",
    "            break\n",
    "        \n",
    "        word_dir = os.path.join(base_dir, word)\n",
    "        if not os.path.exists(word_dir):\n",
    "            os.makedirs(word_dir)\n",
    "        \n",
    "        for i in range(num_samples_per_word):\n",
    "            filename = os.path.join(word_dir, f'{word}_{i+1}.wav')\n",
    "            print(f\"Please say '{word}' into the microphone...\")\n",
    "            \n",
    "            # Countdown before recording\n",
    "            print(\"Press Enter to start recording...\")\n",
    "            input()\n",
    "            \n",
    "            # for t in range(3, 0, -1):\n",
    "            #     print(f\"Recording starts in {t}...\")\n",
    "            #     time.sleep(1)\n",
    "                \n",
    "            # Start recording after countdown\n",
    "            record_audio(filename, duration=1)\n",
    "            print(f\"Saved recording as {filename}\")\n",
    "\n",
    "# Example usage\n",
    "create_dataset()"
   ]
  },
  {
   "cell_type": "code",
   "execution_count": 6,
   "id": "a869a8af-6142-4bdd-aa56-475ac0be146d",
   "metadata": {},
   "outputs": [
    {
     "ename": "TypeError",
     "evalue": "time_stretch() takes 1 positional argument but 2 were given",
     "output_type": "error",
     "traceback": [
      "\u001b[1;31m---------------------------------------------------------------------------\u001b[0m",
      "\u001b[1;31mTypeError\u001b[0m                                 Traceback (most recent call last)",
      "Cell \u001b[1;32mIn[6], line 53\u001b[0m\n\u001b[0;32m     51\u001b[0m \u001b[38;5;66;03m# Example usage\u001b[39;00m\n\u001b[0;32m     52\u001b[0m dataset_dir \u001b[38;5;241m=\u001b[39m \u001b[38;5;124m'\u001b[39m\u001b[38;5;124maudio_dataset\u001b[39m\u001b[38;5;124m'\u001b[39m\n\u001b[1;32m---> 53\u001b[0m \u001b[43maugment_dataset\u001b[49m\u001b[43m(\u001b[49m\u001b[43mdataset_dir\u001b[49m\u001b[43m)\u001b[49m\n",
      "Cell \u001b[1;32mIn[6], line 49\u001b[0m, in \u001b[0;36maugment_dataset\u001b[1;34m(dataset_dir)\u001b[0m\n\u001b[0;32m     47\u001b[0m input_file \u001b[38;5;241m=\u001b[39m os\u001b[38;5;241m.\u001b[39mpath\u001b[38;5;241m.\u001b[39mjoin(word_dir, audio_file)\n\u001b[0;32m     48\u001b[0m output_file \u001b[38;5;241m=\u001b[39m input_file\u001b[38;5;241m.\u001b[39mreplace(\u001b[38;5;124m'\u001b[39m\u001b[38;5;124m.wav\u001b[39m\u001b[38;5;124m'\u001b[39m, \u001b[38;5;124m'\u001b[39m\u001b[38;5;124m_augmented.wav\u001b[39m\u001b[38;5;124m'\u001b[39m)\n\u001b[1;32m---> 49\u001b[0m \u001b[43maugment_audio\u001b[49m\u001b[43m(\u001b[49m\u001b[43minput_file\u001b[49m\u001b[43m,\u001b[49m\u001b[43m \u001b[49m\u001b[43moutput_file\u001b[49m\u001b[43m)\u001b[49m\n",
      "Cell \u001b[1;32mIn[6], line 37\u001b[0m, in \u001b[0;36maugment_audio\u001b[1;34m(input_file, output_file, sr)\u001b[0m\n\u001b[0;32m     34\u001b[0m sf\u001b[38;5;241m.\u001b[39mwrite(pitch_file, pitch_y, sr)\n\u001b[0;32m     36\u001b[0m \u001b[38;5;66;03m# Speed change\u001b[39;00m\n\u001b[1;32m---> 37\u001b[0m speed_y \u001b[38;5;241m=\u001b[39m \u001b[43mchange_speed\u001b[49m\u001b[43m(\u001b[49m\u001b[43my\u001b[49m\u001b[43m)\u001b[49m\n\u001b[0;32m     38\u001b[0m speed_file \u001b[38;5;241m=\u001b[39m output_file\u001b[38;5;241m.\u001b[39mreplace(\u001b[38;5;124m'\u001b[39m\u001b[38;5;124m.wav\u001b[39m\u001b[38;5;124m'\u001b[39m, \u001b[38;5;124m'\u001b[39m\u001b[38;5;124m_speed.wav\u001b[39m\u001b[38;5;124m'\u001b[39m)\n\u001b[0;32m     39\u001b[0m sf\u001b[38;5;241m.\u001b[39mwrite(speed_file, speed_y, sr)\n",
      "Cell \u001b[1;32mIn[6], line 18\u001b[0m, in \u001b[0;36mchange_speed\u001b[1;34m(y, speed_factor)\u001b[0m\n\u001b[0;32m     16\u001b[0m \u001b[38;5;28;01mdef\u001b[39;00m \u001b[38;5;21mchange_speed\u001b[39m(y, speed_factor\u001b[38;5;241m=\u001b[39m\u001b[38;5;241m1.2\u001b[39m):\n\u001b[0;32m     17\u001b[0m \u001b[38;5;250m    \u001b[39m\u001b[38;5;124;03m\"\"\"Change the speed of the audio signal.\"\"\"\u001b[39;00m\n\u001b[1;32m---> 18\u001b[0m     \u001b[38;5;28;01mreturn\u001b[39;00m \u001b[43mlibrosa\u001b[49m\u001b[38;5;241;43m.\u001b[39;49m\u001b[43meffects\u001b[49m\u001b[38;5;241;43m.\u001b[39;49m\u001b[43mtime_stretch\u001b[49m\u001b[43m(\u001b[49m\u001b[43my\u001b[49m\u001b[43m,\u001b[49m\u001b[43m \u001b[49m\u001b[43mspeed_factor\u001b[49m\u001b[43m)\u001b[49m\n",
      "\u001b[1;31mTypeError\u001b[0m: time_stretch() takes 1 positional argument but 2 were given"
     ]
    }
   ],
   "source": [
    "import os\n",
    "import librosa\n",
    "import numpy as np\n",
    "import soundfile as sf\n",
    "\n",
    "def add_noise(y, noise_level=0.005):\n",
    "    \"\"\"Add random noise to the audio signal.\"\"\"\n",
    "    noise = np.random.randn(len(y))\n",
    "    y_noisy = y + noise_level * noise\n",
    "    return y_noisy\n",
    "\n",
    "def shift_pitch(y, sr, n_steps=2):\n",
    "    \"\"\"Shift pitch of the audio signal.\"\"\"\n",
    "    return librosa.effects.pitch_shift(y, sr=sr, n_steps=n_steps)\n",
    "\n",
    "def change_speed(y, speed_factor=1.2):\n",
    "    \"\"\"Change the speed of the audio signal.\"\"\"\n",
    "    return librosa.effects.time_stretch(y, speed_factor)\n",
    "\n",
    "def augment_audio(input_file, output_file, sr=16000):\n",
    "    y, sr = librosa.load(input_file, sr=sr)\n",
    "    \n",
    "    # Original audio\n",
    "    sf.write(output_file, y, sr)\n",
    "    \n",
    "    # Noise addition\n",
    "    noisy_y = add_noise(y)\n",
    "    noisy_file = output_file.replace('.wav', '_noisy.wav')\n",
    "    sf.write(noisy_file, noisy_y, sr)\n",
    "    \n",
    "    # Pitch shift\n",
    "    pitch_y = shift_pitch(y, sr)\n",
    "    pitch_file = output_file.replace('.wav', '_pitch.wav')\n",
    "    sf.write(pitch_file, pitch_y, sr)\n",
    "    \n",
    "    # Speed change\n",
    "    speed_y = change_speed(y)\n",
    "    speed_file = output_file.replace('.wav', '_speed.wav')\n",
    "    sf.write(speed_file, speed_y, sr)\n",
    "\n",
    "def augment_dataset(dataset_dir):\n",
    "    for word in os.listdir(dataset_dir):\n",
    "        word_dir = os.path.join(dataset_dir, word)\n",
    "        if os.path.isdir(word_dir):\n",
    "            audio_files = [f for f in os.listdir(word_dir) if f.endswith('.wav')]\n",
    "            for audio_file in audio_files:\n",
    "                input_file = os.path.join(word_dir, audio_file)\n",
    "                output_file = input_file.replace('.wav', '_augmented.wav')\n",
    "                augment_audio(input_file, output_file)\n",
    "\n",
    "# Example usage\n",
    "dataset_dir = 'audio_dataset'\n",
    "augment_dataset(dataset_dir)\n"
   ]
  },
  {
   "cell_type": "code",
   "execution_count": 9,
   "id": "8244602e-4ec7-4c2b-a734-2602b6155e2b",
   "metadata": {},
   "outputs": [],
   "source": [
    "import os\n",
    "import librosa\n",
    "import numpy as np\n",
    "import soundfile as sf\n",
    "\n",
    "def add_noise(y, noise_level=0.005):\n",
    "    \"\"\"Add random noise to the audio signal.\"\"\"\n",
    "    noise = np.random.randn(len(y))\n",
    "    y_noisy = y + noise_level * noise\n",
    "    return y_noisy\n",
    "\n",
    "def shift_pitch(y, sr, n_steps=2):\n",
    "    \"\"\"Shift pitch of the audio signal.\"\"\"\n",
    "    return librosa.effects.pitch_shift(y, sr=sr, n_steps=n_steps)\n",
    "\n",
    "def change_speed(y, speed_factor=1.2):\n",
    "    \"\"\"Change the speed of the audio signal.\"\"\"\n",
    "    return librosa.effects.time_stretch(y, rate = speed_factor)\n",
    "\n",
    "def augment_audio(input_file, output_file, sr=16000):\n",
    "    y, sr = librosa.load(input_file, sr=sr)\n",
    "    \n",
    "    # Original audio\n",
    "    sf.write(output_file, y, sr)\n",
    "    \n",
    "    # Noise addition\n",
    "    noisy_y = add_noise(y)\n",
    "    noisy_file = output_file.replace('.wav', '_noisy.wav')\n",
    "    sf.write(noisy_file, noisy_y, sr)\n",
    "    \n",
    "    # Pitch shift\n",
    "    pitch_y = shift_pitch(y, sr)\n",
    "    pitch_file = output_file.replace('.wav', '_pitch.wav')\n",
    "    sf.write(pitch_file, pitch_y, sr)\n",
    "    \n",
    "    # Speed change\n",
    "    speed_y = change_speed(y)\n",
    "    speed_file = output_file.replace('.wav', '_speed.wav')\n",
    "    sf.write(speed_file, speed_y, sr)\n",
    "\n",
    "def augment_dataset(dataset_dir):\n",
    "    for word in os.listdir(dataset_dir):\n",
    "        word_dir = os.path.join(dataset_dir, word)\n",
    "        if os.path.isdir(word_dir):\n",
    "            audio_files = [f for f in os.listdir(word_dir) if f.endswith('.wav')]\n",
    "            for audio_file in audio_files:\n",
    "                input_file = os.path.join(word_dir, audio_file)\n",
    "                output_file = input_file.replace('.wav', '_augmented.wav')\n",
    "                augment_audio(input_file, output_file)\n",
    "\n",
    "# Example usage\n",
    "dataset_dir = 'audio_dataset'\n",
    "augment_dataset(dataset_dir)\n"
   ]
  },
  {
   "cell_type": "code",
   "execution_count": 11,
   "id": "d39c9eb7-ec4b-4dfa-add5-b40046cf60c3",
   "metadata": {},
   "outputs": [],
   "source": [
    "import os\n",
    "import pathlib\n",
    "\n",
    "import matplotlib.pyplot as plt\n",
    "import numpy as np\n",
    "import seaborn as sns\n",
    "import tensorflow as tf\n",
    "\n",
    "from tensorflow.keras import layers\n",
    "from tensorflow.keras import models\n",
    "from IPython import display\n",
    "\n",
    "from tqdm import tqdm\n",
    "import librosa\n",
    "\n",
    "\n",
    "# Set the seed value for experiment reproducibility.\n",
    "seed = 42\n",
    "tf.random.set_seed(seed)\n",
    "np.random.seed(seed)"
   ]
  },
  {
   "cell_type": "code",
   "execution_count": 12,
   "id": "c12e59d2-2780-4c7b-81c8-54f30f2a1193",
   "metadata": {},
   "outputs": [],
   "source": [
    "loaded_model = tf.saved_model.load(\"saved\")"
   ]
  },
  {
   "cell_type": "code",
   "execution_count": null,
   "id": "2a9b32ff-3a18-43c5-b54e-4e253a87afc5",
   "metadata": {},
   "outputs": [],
   "source": []
  }
 ],
 "metadata": {
  "kernelspec": {
   "display_name": "Python 3 (ipykernel)",
   "language": "python",
   "name": "python3"
  },
  "language_info": {
   "codemirror_mode": {
    "name": "ipython",
    "version": 3
   },
   "file_extension": ".py",
   "mimetype": "text/x-python",
   "name": "python",
   "nbconvert_exporter": "python",
   "pygments_lexer": "ipython3",
   "version": "3.11.9"
  }
 },
 "nbformat": 4,
 "nbformat_minor": 5
}
